{
 "cells": [
  {
   "cell_type": "markdown",
   "metadata": {
    "id": "6FL2Mbm_sxwb"
   },
   "source": [
    "# Simple sentiment analysis\n",
    "\n",
    "Sentiment analysis, using iMDB database\n",
    "\n",
    "First, implement and train a feedforward NN model with TF-IDF. And then train your\n",
    "model using word2vec embedding. Report both training and development accuracy on\n",
    "the dataset. Try to use stochastic gradient descent or (mini-batch) stochastic gradient\n",
    "descent!"
   ]
  },
  {
   "cell_type": "code",
   "execution_count": 1,
   "metadata": {
    "ExecuteTime": {
     "end_time": "2023-05-15T14:12:57.768962Z",
     "start_time": "2023-05-15T14:12:54.807413Z"
    }
   },
   "outputs": [
    {
     "name": "stdout",
     "output_type": "stream",
     "text": [
      "Requirement already satisfied: tensorflow in /Users/uni/anaconda3/envs/tf/lib/python3.10/site-packages (2.11.0)\r\n",
      "Requirement already satisfied: tensorflow-estimator<2.12,>=2.11.0 in /Users/uni/anaconda3/envs/tf/lib/python3.10/site-packages (from tensorflow) (2.11.0)\r\n",
      "Requirement already satisfied: tensorboard<2.12,>=2.11 in /Users/uni/anaconda3/envs/tf/lib/python3.10/site-packages (from tensorflow) (2.11.0)\r\n",
      "Requirement already satisfied: setuptools in /Users/uni/anaconda3/envs/tf/lib/python3.10/site-packages (from tensorflow) (66.0.0)\r\n",
      "Requirement already satisfied: packaging in /Users/uni/anaconda3/envs/tf/lib/python3.10/site-packages (from tensorflow) (23.0)\r\n",
      "Requirement already satisfied: protobuf<3.20,>=3.9.2 in /Users/uni/anaconda3/envs/tf/lib/python3.10/site-packages (from tensorflow) (3.19.6)\r\n",
      "Requirement already satisfied: flatbuffers>=2.0 in /Users/uni/anaconda3/envs/tf/lib/python3.10/site-packages (from tensorflow) (2.0)\r\n",
      "Requirement already satisfied: google-pasta>=0.1.1 in /Users/uni/anaconda3/envs/tf/lib/python3.10/site-packages (from tensorflow) (0.2.0)\r\n",
      "Requirement already satisfied: astunparse>=1.6.0 in /Users/uni/anaconda3/envs/tf/lib/python3.10/site-packages (from tensorflow) (1.6.3)\r\n",
      "Requirement already satisfied: numpy>=1.20 in /Users/uni/anaconda3/envs/tf/lib/python3.10/site-packages (from tensorflow) (1.24.3)\r\n",
      "Requirement already satisfied: termcolor>=1.1.0 in /Users/uni/anaconda3/envs/tf/lib/python3.10/site-packages (from tensorflow) (2.1.0)\r\n",
      "Requirement already satisfied: gast<=0.4.0,>=0.2.1 in /Users/uni/anaconda3/envs/tf/lib/python3.10/site-packages (from tensorflow) (0.4.0)\r\n",
      "Requirement already satisfied: wrapt>=1.11.0 in /Users/uni/anaconda3/envs/tf/lib/python3.10/site-packages (from tensorflow) (1.14.1)\r\n",
      "Requirement already satisfied: absl-py>=1.0.0 in /Users/uni/anaconda3/envs/tf/lib/python3.10/site-packages (from tensorflow) (1.3.0)\r\n",
      "Requirement already satisfied: grpcio<2.0,>=1.24.3 in /Users/uni/anaconda3/envs/tf/lib/python3.10/site-packages (from tensorflow) (1.42.0)\r\n",
      "Requirement already satisfied: keras<2.12,>=2.11.0 in /Users/uni/anaconda3/envs/tf/lib/python3.10/site-packages (from tensorflow) (2.11.0)\r\n",
      "Requirement already satisfied: typing-extensions>=3.6.6 in /Users/uni/anaconda3/envs/tf/lib/python3.10/site-packages (from tensorflow) (4.5.0)\r\n",
      "Requirement already satisfied: h5py>=2.9.0 in /Users/uni/anaconda3/envs/tf/lib/python3.10/site-packages (from tensorflow) (3.7.0)\r\n",
      "Requirement already satisfied: libclang>=13.0.0 in /Users/uni/anaconda3/envs/tf/lib/python3.10/site-packages (from tensorflow) (16.0.0)\r\n",
      "Requirement already satisfied: opt-einsum>=2.3.2 in /Users/uni/anaconda3/envs/tf/lib/python3.10/site-packages (from tensorflow) (3.3.0)\r\n",
      "Requirement already satisfied: six>=1.12.0 in /Users/uni/anaconda3/envs/tf/lib/python3.10/site-packages (from tensorflow) (1.16.0)\r\n",
      "Requirement already satisfied: wheel<1.0,>=0.23.0 in /Users/uni/anaconda3/envs/tf/lib/python3.10/site-packages (from astunparse>=1.6.0->tensorflow) (0.35.1)\r\n",
      "Requirement already satisfied: requests<3,>=2.21.0 in /Users/uni/anaconda3/envs/tf/lib/python3.10/site-packages (from tensorboard<2.12,>=2.11->tensorflow) (2.29.0)\r\n",
      "Requirement already satisfied: werkzeug>=1.0.1 in /Users/uni/anaconda3/envs/tf/lib/python3.10/site-packages (from tensorboard<2.12,>=2.11->tensorflow) (2.2.3)\r\n",
      "Requirement already satisfied: tensorboard-data-server<0.7.0,>=0.6.0 in /Users/uni/anaconda3/envs/tf/lib/python3.10/site-packages (from tensorboard<2.12,>=2.11->tensorflow) (0.6.1)\r\n",
      "Requirement already satisfied: markdown>=2.6.8 in /Users/uni/anaconda3/envs/tf/lib/python3.10/site-packages (from tensorboard<2.12,>=2.11->tensorflow) (3.4.1)\r\n",
      "Requirement already satisfied: tensorboard-plugin-wit>=1.6.0 in /Users/uni/anaconda3/envs/tf/lib/python3.10/site-packages (from tensorboard<2.12,>=2.11->tensorflow) (1.6.0)\r\n",
      "Requirement already satisfied: google-auth<3,>=1.6.3 in /Users/uni/anaconda3/envs/tf/lib/python3.10/site-packages (from tensorboard<2.12,>=2.11->tensorflow) (2.6.0)\r\n",
      "Requirement already satisfied: google-auth-oauthlib<0.5,>=0.4.1 in /Users/uni/anaconda3/envs/tf/lib/python3.10/site-packages (from tensorboard<2.12,>=2.11->tensorflow) (0.4.4)\r\n",
      "Requirement already satisfied: rsa<5,>=3.1.4 in /Users/uni/anaconda3/envs/tf/lib/python3.10/site-packages (from google-auth<3,>=1.6.3->tensorboard<2.12,>=2.11->tensorflow) (4.7.2)\r\n",
      "Requirement already satisfied: pyasn1-modules>=0.2.1 in /Users/uni/anaconda3/envs/tf/lib/python3.10/site-packages (from google-auth<3,>=1.6.3->tensorboard<2.12,>=2.11->tensorflow) (0.2.8)\r\n",
      "Requirement already satisfied: cachetools<6.0,>=2.0.0 in /Users/uni/anaconda3/envs/tf/lib/python3.10/site-packages (from google-auth<3,>=1.6.3->tensorboard<2.12,>=2.11->tensorflow) (4.2.2)\r\n",
      "Requirement already satisfied: requests-oauthlib>=0.7.0 in /Users/uni/anaconda3/envs/tf/lib/python3.10/site-packages (from google-auth-oauthlib<0.5,>=0.4.1->tensorboard<2.12,>=2.11->tensorflow) (1.3.0)\r\n",
      "Requirement already satisfied: idna<4,>=2.5 in /Users/uni/anaconda3/envs/tf/lib/python3.10/site-packages (from requests<3,>=2.21.0->tensorboard<2.12,>=2.11->tensorflow) (3.4)\r\n",
      "Requirement already satisfied: charset-normalizer<4,>=2 in /Users/uni/anaconda3/envs/tf/lib/python3.10/site-packages (from requests<3,>=2.21.0->tensorboard<2.12,>=2.11->tensorflow) (2.0.4)\r\n",
      "Requirement already satisfied: certifi>=2017.4.17 in /Users/uni/anaconda3/envs/tf/lib/python3.10/site-packages (from requests<3,>=2.21.0->tensorboard<2.12,>=2.11->tensorflow) (2022.12.7)\r\n",
      "Requirement already satisfied: urllib3<1.27,>=1.21.1 in /Users/uni/anaconda3/envs/tf/lib/python3.10/site-packages (from requests<3,>=2.21.0->tensorboard<2.12,>=2.11->tensorflow) (1.26.15)\r\n",
      "Requirement already satisfied: MarkupSafe>=2.1.1 in /Users/uni/anaconda3/envs/tf/lib/python3.10/site-packages (from werkzeug>=1.0.1->tensorboard<2.12,>=2.11->tensorflow) (2.1.1)\r\n",
      "Requirement already satisfied: pyasn1<0.5.0,>=0.4.6 in /Users/uni/anaconda3/envs/tf/lib/python3.10/site-packages (from pyasn1-modules>=0.2.1->google-auth<3,>=1.6.3->tensorboard<2.12,>=2.11->tensorflow) (0.4.8)\r\n",
      "Requirement already satisfied: oauthlib>=3.0.0 in /Users/uni/anaconda3/envs/tf/lib/python3.10/site-packages (from requests-oauthlib>=0.7.0->google-auth-oauthlib<0.5,>=0.4.1->tensorboard<2.12,>=2.11->tensorflow) (3.2.2)\r\n",
      "Requirement already satisfied: nltk in /Users/uni/anaconda3/envs/tf/lib/python3.10/site-packages (3.8.1)\r\n",
      "Requirement already satisfied: regex>=2021.8.3 in /Users/uni/anaconda3/envs/tf/lib/python3.10/site-packages (from nltk) (2023.5.5)\r\n",
      "Requirement already satisfied: joblib in /Users/uni/anaconda3/envs/tf/lib/python3.10/site-packages (from nltk) (1.2.0)\r\n",
      "Requirement already satisfied: click in /Users/uni/anaconda3/envs/tf/lib/python3.10/site-packages (from nltk) (8.0.4)\r\n",
      "Requirement already satisfied: tqdm in /Users/uni/anaconda3/envs/tf/lib/python3.10/site-packages (from nltk) (4.65.0)\r\n",
      "Requirement already satisfied: gensim in /Users/uni/anaconda3/envs/tf/lib/python3.10/site-packages (4.3.1)\r\n",
      "Requirement already satisfied: smart-open>=1.8.1 in /Users/uni/anaconda3/envs/tf/lib/python3.10/site-packages (from gensim) (6.3.0)\r\n",
      "Requirement already satisfied: scipy>=1.7.0 in /Users/uni/anaconda3/envs/tf/lib/python3.10/site-packages (from gensim) (1.10.1)\r\n",
      "Requirement already satisfied: numpy>=1.18.5 in /Users/uni/anaconda3/envs/tf/lib/python3.10/site-packages (from gensim) (1.24.3)\r\n",
      "Requirement already satisfied: matplotlib in /Users/uni/anaconda3/envs/tf/lib/python3.10/site-packages (3.7.1)\r\n",
      "Requirement already satisfied: fonttools>=4.22.0 in /Users/uni/anaconda3/envs/tf/lib/python3.10/site-packages (from matplotlib) (4.39.4)\r\n",
      "Requirement already satisfied: pillow>=6.2.0 in /Users/uni/anaconda3/envs/tf/lib/python3.10/site-packages (from matplotlib) (9.5.0)\r\n",
      "Requirement already satisfied: kiwisolver>=1.0.1 in /Users/uni/anaconda3/envs/tf/lib/python3.10/site-packages (from matplotlib) (1.4.4)\r\n",
      "Requirement already satisfied: numpy>=1.20 in /Users/uni/anaconda3/envs/tf/lib/python3.10/site-packages (from matplotlib) (1.24.3)\r\n",
      "Requirement already satisfied: contourpy>=1.0.1 in /Users/uni/anaconda3/envs/tf/lib/python3.10/site-packages (from matplotlib) (1.0.7)\r\n",
      "Requirement already satisfied: pyparsing>=2.3.1 in /Users/uni/anaconda3/envs/tf/lib/python3.10/site-packages (from matplotlib) (3.0.9)\r\n",
      "Requirement already satisfied: python-dateutil>=2.7 in /Users/uni/anaconda3/envs/tf/lib/python3.10/site-packages (from matplotlib) (2.8.2)\r\n",
      "Requirement already satisfied: packaging>=20.0 in /Users/uni/anaconda3/envs/tf/lib/python3.10/site-packages (from matplotlib) (23.0)\r\n",
      "Requirement already satisfied: cycler>=0.10 in /Users/uni/anaconda3/envs/tf/lib/python3.10/site-packages (from matplotlib) (0.11.0)\r\n",
      "Requirement already satisfied: six>=1.5 in /Users/uni/anaconda3/envs/tf/lib/python3.10/site-packages (from python-dateutil>=2.7->matplotlib) (1.16.0)\r\n"
     ]
    }
   ],
   "source": [
    "!pip install tensorflow\n",
    "!pip install nltk\n",
    "!pip install gensim\n",
    "!pip install matplotlib"
   ]
  },
  {
   "cell_type": "markdown",
   "metadata": {
    "id": "XpITqxI8ugWq"
   },
   "source": [
    "### imports\n"
   ]
  },
  {
   "cell_type": "code",
   "execution_count": 2,
   "metadata": {
    "id": "OiLsmKu-ujrK",
    "ExecuteTime": {
     "end_time": "2023-05-15T14:13:01.688954Z",
     "start_time": "2023-05-15T14:12:57.770197Z"
    }
   },
   "outputs": [
    {
     "name": "stderr",
     "output_type": "stream",
     "text": [
      "[nltk_data] Downloading package stopwords to /Users/uni/nltk_data...\n",
      "[nltk_data]   Package stopwords is already up-to-date!\n"
     ]
    }
   ],
   "source": [
    "from tensorflow.keras.models import Sequential\n",
    "from tensorflow.keras import layers\n",
    "from tensorflow.keras import regularizers\n",
    "from tensorflow import keras\n",
    "import matplotlib.pyplot as plt\n",
    "import nltk\n",
    "nltk.download('stopwords')\n",
    "import csv\n",
    "import numpy as np\n",
    "# from sklearn.feature_extraction.text import TfidfVectorizer\n",
    "import gensim"
   ]
  },
  {
   "cell_type": "markdown",
   "metadata": {
    "id": "3YruF5M9t3-0"
   },
   "source": [
    "### load dataset into memory\n",
    "return a list of docs and a list of respective labels"
   ]
  },
  {
   "cell_type": "code",
   "execution_count": 3,
   "metadata": {
    "id": "YOaqXlBmtssb",
    "ExecuteTime": {
     "end_time": "2023-05-15T14:13:01.693153Z",
     "start_time": "2023-05-15T14:13:01.688362Z"
    }
   },
   "outputs": [],
   "source": [
    "def load_data (filename):\n",
    "  content = list()\n",
    "  labels = list()\n",
    "\n",
    "  has_header = True\n",
    "  # detect if file has a header\n",
    "  # with open(filename, 'r') as file:\n",
    "  #   sample = file.read(64)\n",
    "  #   has_header = csv.Sniffer().has_header(sample)\n",
    "\n",
    "  with open(filename, 'r') as file:\n",
    "    reader = csv.reader(file)\n",
    "    # skip first line if file has a header \n",
    "    if has_header:\n",
    "      next(reader)\n",
    "    for c, l in reader:\n",
    "      content.append(c)\n",
    "      labels.append(l)\n",
    "  return content, labels"
   ]
  },
  {
   "cell_type": "markdown",
   "metadata": {
    "id": "UsvSHK0Bt99T"
   },
   "source": [
    "### turn a dataset into clean tokens"
   ]
  },
  {
   "cell_type": "code",
   "execution_count": 4,
   "metadata": {
    "id": "N0Ig0SQvuJvd",
    "ExecuteTime": {
     "end_time": "2023-05-15T14:13:01.694411Z",
     "start_time": "2023-05-15T14:13:01.692562Z"
    }
   },
   "outputs": [],
   "source": [
    "def clean_data(data):\n",
    "  corpus = list()\n",
    "  corp_voc = dict()\n",
    "  stop = nltk.corpus.stopwords.words(\"english\")\n",
    "  # regex tokenizer, find words, numbers and words containing '\n",
    "  tokenizer = nltk.tokenize.RegexpTokenizer(r\"\\w+(?:'\\w)?\")\n",
    "  for doc in data:\n",
    "    doc = tokenizer.tokenize(doc)\n",
    "    doc_cleaned = dict()\n",
    "    for tok in doc:\n",
    "      # make all words lower case\n",
    "      tok = tok.lower()\n",
    "      # filter out numbers \n",
    "      if not tok.isdigit() and tok not in stop:\n",
    "        # add clean token to document\n",
    "        if tok in doc_cleaned:\n",
    "          doc_cleaned[tok] += 1\n",
    "        else:\n",
    "          doc_cleaned[tok] = 1\n",
    "    for tok in doc_cleaned.keys():\n",
    "    # increase corpus vocabulary\n",
    "        if tok in corp_voc:\n",
    "          corp_voc[tok] += 1\n",
    "        else:\n",
    "          corp_voc[tok] = 1\n",
    "    corpus.append(doc_cleaned)\n",
    "  return corpus, corp_voc\n",
    "\n",
    "# filter all words out of a corpus that are not in a vocabulary\n",
    "def get_filtered_corpus(corpus, vocab):\n",
    "  clean_corpus = list()\n",
    "  for doc in corpus:\n",
    "    clean_doc = dict()\n",
    "    for tok in doc:\n",
    "      if tok in vocab:\n",
    "        clean_doc[tok] = doc[tok]\n",
    "    clean_corpus.append(clean_doc)\n",
    "  return clean_corpus"
   ]
  },
  {
   "cell_type": "markdown",
   "metadata": {
    "id": "ZInuMNEMuPVI"
   },
   "source": [
    "### preprocess the dataset\n",
    "\n",
    "tf-idf vectorizer"
   ]
  },
  {
   "cell_type": "code",
   "execution_count": 5,
   "metadata": {
    "id": "E-XqdPRJuSA_",
    "ExecuteTime": {
     "end_time": "2023-05-15T14:13:01.701935Z",
     "start_time": "2023-05-15T14:13:01.697047Z"
    }
   },
   "outputs": [],
   "source": [
    "# corpus must be a list of dicts of form (token: occurences)\n",
    "# vocab must be a dict of form (token: documents in corpus containing token)\n",
    "def preprocess_tf_idf(corpus, vocab):\n",
    "  processed = np.zeros((len(corpus), len(vocab)))\n",
    "  idf = get_idf(vocab)\n",
    "  token_order = {tok: i for i, tok, in enumerate(sorted(vocab.keys()))}\n",
    "  for n_doc, doc in enumerate(corpus):\n",
    "    tf = get_tf(doc)\n",
    "    for tok in set(doc):\n",
    "      tok_pos = token_order[tok]\n",
    "      processed[n_doc][tok_pos] = tf[tok]*idf[tok]\n",
    "  return processed\n",
    "\n",
    "def get_tf(doc):\n",
    "  tf = dict()\n",
    "  for tok, occ in doc.items():\n",
    "    tf[tok] = occ / len(doc)\n",
    "  return tf\n",
    "\n",
    "def get_idf(corp_voc):\n",
    "  idf = dict()\n",
    "  for tok, docs_containing in corp_voc.items():\n",
    "    idf[tok] = np.log10(len(corp_voc) / docs_containing)\n",
    "  return idf\n"
   ]
  },
  {
   "cell_type": "markdown",
   "metadata": {},
   "source": [
    "semantic embeddings\n",
    "pooling word2vec embeddings"
   ]
  },
  {
   "cell_type": "code",
   "execution_count": 6,
   "metadata": {
    "ExecuteTime": {
     "end_time": "2023-05-15T14:13:01.702330Z",
     "start_time": "2023-05-15T14:13:01.699867Z"
    }
   },
   "outputs": [],
   "source": [
    "def preprocess_sem_vec(corpus):\n",
    "  processed = list()\n",
    "  model = gensim.models.KeyedVectors.load_word2vec_format('GoogleNews-vectors-negative300.bin', binary=True)\n",
    "  total_used = 0\n",
    "  total_available = 0\n",
    "  for n_doc, doc in enumerate(corpus):\n",
    "    vecs = [occ*model[tok] for tok, occ in doc.items() if tok in model.key_to_index]\n",
    "    total_used += len(vecs)\n",
    "    total_available += len(doc.items())\n",
    "    processed.append(np.mean(vecs, axis=0))\n",
    "\n",
    "  return np.array(processed)"
   ]
  },
  {
   "cell_type": "markdown",
   "source": [
    "load training data"
   ],
   "metadata": {
    "collapsed": false
   }
  },
  {
   "cell_type": "code",
   "execution_count": 7,
   "outputs": [],
   "source": [
    "# read data from file\n",
    "raw_data, labels = load_data(\"Train.csv\")\n",
    "full_corpus, full_vocab = clean_data(raw_data)\n",
    "\n",
    "# select part of vocabulary\n",
    "frequencies = sorted(full_vocab.items(), key=lambda x : x[1], reverse=True)\n",
    "# number of most common non-stop words that we consider\n",
    "VOCAB_SIZE = 5000\n",
    "# number of most frequent words to be disregarded, but this is now irrelevant due to the removal of stop words\n",
    "HIGHER_CUTOFF = 0\n",
    "vocab = {x[0] : x[1] for x in frequencies[HIGHER_CUTOFF:HIGHER_CUTOFF+VOCAB_SIZE]}\n",
    "\n",
    "corpus = get_filtered_corpus(full_corpus, vocab.keys())\n",
    "# process labels\n",
    "taining_labels = np.array([0 if int(label) == 0 else 1 for label in labels])"
   ],
   "metadata": {
    "collapsed": false,
    "ExecuteTime": {
     "end_time": "2023-05-15T14:13:11.251440Z",
     "start_time": "2023-05-15T14:13:01.703292Z"
    }
   }
  },
  {
   "cell_type": "markdown",
   "source": [
    "load validation data"
   ],
   "metadata": {
    "collapsed": false
   }
  },
  {
   "cell_type": "code",
   "execution_count": 8,
   "outputs": [],
   "source": [
    "v_raw, v_labels = load_data(\"Valid.csv\")\n",
    "full_valid_corpus, _ = clean_data(v_raw)\n",
    "valid_corpus = get_filtered_corpus(full_valid_corpus, vocab)\n",
    "valid_labels = np.array([0 if int(label) == 0 else 1 for label in v_labels])"
   ],
   "metadata": {
    "collapsed": false,
    "ExecuteTime": {
     "end_time": "2023-05-15T14:13:12.429214Z",
     "start_time": "2023-05-15T14:13:11.248108Z"
    }
   }
  },
  {
   "cell_type": "markdown",
   "source": [
    "load testing data"
   ],
   "metadata": {
    "collapsed": false
   }
  },
  {
   "cell_type": "code",
   "execution_count": 9,
   "outputs": [],
   "source": [
    "t_raw, t_labels = load_data(\"Test.csv\")\n",
    "full_test_corpus, _ = clean_data(t_raw)\n",
    "test_corpus = get_filtered_corpus(full_test_corpus, vocab)\n",
    "test_labels = np.array([0 if int(label) == 0 else 1 for label in t_labels])"
   ],
   "metadata": {
    "collapsed": false,
    "ExecuteTime": {
     "end_time": "2023-05-15T14:13:13.593235Z",
     "start_time": "2023-05-15T14:13:12.426802Z"
    }
   }
  },
  {
   "cell_type": "markdown",
   "source": [
    "define and preprocess training, testing and validation data"
   ],
   "metadata": {
    "collapsed": false
   }
  },
  {
   "cell_type": "code",
   "execution_count": 10,
   "outputs": [],
   "source": [
    "# get tf-idf representation of data\n",
    "tfidf_data = preprocess_tf_idf(corpus, vocab)\n",
    "test_data = preprocess_tf_idf(test_corpus, vocab)\n",
    "valid_data = preprocess_tf_idf(valid_corpus, vocab)"
   ],
   "metadata": {
    "collapsed": false,
    "ExecuteTime": {
     "end_time": "2023-05-15T14:13:15.146525Z",
     "start_time": "2023-05-15T14:13:13.659891Z"
    }
   }
  },
  {
   "cell_type": "code",
   "execution_count": 11,
   "metadata": {
    "ExecuteTime": {
     "end_time": "2023-05-15T14:13:54.652500Z",
     "start_time": "2023-05-15T14:13:15.146741Z"
    }
   },
   "outputs": [],
   "source": [
    "# get semantic embeddings of data\n",
    "w2v_train_data = preprocess_sem_vec(corpus)\n",
    "w2v_valid_data = preprocess_sem_vec(valid_corpus)\n",
    "w2v_test_data = preprocess_sem_vec(test_corpus)"
   ]
  },
  {
   "cell_type": "markdown",
   "source": [
    "### define function for plotting the training history"
   ],
   "metadata": {
    "collapsed": false
   }
  },
  {
   "cell_type": "code",
   "execution_count": 12,
   "outputs": [],
   "source": [
    "def plot_training(history):\n",
    "  train_loss = history.history['loss']\n",
    "  val_loss = history.history['val_loss']\n",
    "  train_acc = history.history['accuracy']\n",
    "  val_acc = history.history['val_accuracy']\n",
    "  epochs = range(1, len(train_loss) + 1)\n",
    "\n",
    "  # Plot the training and validation loss\n",
    "  plt.plot(epochs, train_loss, 'b-', label='Training Loss')\n",
    "  plt.plot(epochs, val_loss, 'r-', label='Validation Loss')\n",
    "  plt.title('Training and Validation Loss')\n",
    "  plt.xlabel('Epochs')\n",
    "  plt.ylabel('Loss')\n",
    "  plt.legend()\n",
    "  plt.show()\n",
    "\n",
    "  # Plot the training and validation accuracy\n",
    "  plt.plot(epochs, train_acc, 'b-', label='Training Accuracy')\n",
    "  plt.plot(epochs, val_acc, 'r-', label='Validation Accuracy')\n",
    "  plt.title('Training and Validation Accuracy')\n",
    "  plt.xlabel('Epochs')\n",
    "  plt.ylabel('Accuracy')\n",
    "  plt.legend()\n",
    "  plt.show()"
   ],
   "metadata": {
    "collapsed": false,
    "ExecuteTime": {
     "end_time": "2023-05-15T14:13:54.659116Z",
     "start_time": "2023-05-15T14:13:54.657023Z"
    }
   }
  },
  {
   "cell_type": "markdown",
   "source": [
    "### classify a review as negative or positive."
   ],
   "metadata": {
    "collapsed": false
   }
  },
  {
   "cell_type": "code",
   "execution_count": 13,
   "outputs": [],
   "source": [
    "def predict_sentiment(model, doc):\n",
    "  return model.predict(doc)"
   ],
   "metadata": {
    "collapsed": false,
    "ExecuteTime": {
     "end_time": "2023-05-15T14:13:54.664495Z",
     "start_time": "2023-05-15T14:13:54.659635Z"
    }
   }
  },
  {
   "cell_type": "markdown",
   "source": [
    "### define the model\n"
   ],
   "metadata": {
    "collapsed": false
   }
  },
  {
   "cell_type": "code",
   "execution_count": 14,
   "outputs": [],
   "source": [
    "def define_tf_idf_model(dropout=0.2, l1=1e-5, l2=1e-4):\n",
    "  model = keras.models.Sequential()\n",
    "  model.add(layers.Dropout(dropout))\n",
    "  model.add(layers.Dense(64, activation='relu', kernel_regularizer=regularizers.L1L2(l1=l1, l2=l2)))\n",
    "  model.add(layers.Dropout(dropout))\n",
    "  model.add(layers.Dense(1, activation='sigmoid', kernel_regularizer=regularizers.L1L2(l1=l1, l2=l2)))\n",
    "  return model"
   ],
   "metadata": {
    "collapsed": false,
    "ExecuteTime": {
     "end_time": "2023-05-15T14:13:54.669029Z",
     "start_time": "2023-05-15T14:13:54.667565Z"
    }
   }
  },
  {
   "cell_type": "markdown",
   "source": [
    "## Running the model"
   ],
   "metadata": {
    "collapsed": false
   }
  },
  {
   "cell_type": "code",
   "execution_count": 15,
   "outputs": [],
   "source": [
    "TF_LEARNING_RATE = 4e-4\n",
    "TF_BATCH_SIZE = 512\n",
    "TF_EPOCHS = 100\n",
    "\n",
    "TF_DROPOUT = 0.25\n",
    "TF_L1 = 5e-6\n",
    "TF_L2 = 5e-5"
   ],
   "metadata": {
    "collapsed": false,
    "ExecuteTime": {
     "end_time": "2023-05-15T14:13:54.671389Z",
     "start_time": "2023-05-15T14:13:54.670120Z"
    }
   }
  },
  {
   "cell_type": "code",
   "execution_count": 16,
   "outputs": [
    {
     "name": "stdout",
     "output_type": "stream",
     "text": [
      "begin training\n",
      "Epoch 1/100\n"
     ]
    },
    {
     "name": "stderr",
     "output_type": "stream",
     "text": [
      "2023-05-15 16:13:55.006522: W tensorflow/tsl/platform/profile_utils/cpu_utils.cc:128] Failed to get CPU frequency: 0 Hz\n"
     ]
    },
    {
     "name": "stdout",
     "output_type": "stream",
     "text": [
      "79/79 [==============================] - 1s 10ms/step - loss: 0.7083 - accuracy: 0.6179 - val_loss: 0.6946 - val_accuracy: 0.7530\n",
      "Epoch 2/100\n",
      "79/79 [==============================] - 1s 10ms/step - loss: 0.6906 - accuracy: 0.7106 - val_loss: 0.6876 - val_accuracy: 0.7818\n",
      "Epoch 3/100\n",
      "79/79 [==============================] - 1s 9ms/step - loss: 0.6854 - accuracy: 0.7465 - val_loss: 0.6825 - val_accuracy: 0.7694\n",
      "Epoch 4/100\n",
      "79/79 [==============================] - 1s 11ms/step - loss: 0.6798 - accuracy: 0.7470 - val_loss: 0.6763 - val_accuracy: 0.7992\n",
      "Epoch 5/100\n",
      "79/79 [==============================] - 1s 9ms/step - loss: 0.6732 - accuracy: 0.7685 - val_loss: 0.6689 - val_accuracy: 0.7908\n",
      "Epoch 6/100\n",
      "79/79 [==============================] - 1s 9ms/step - loss: 0.6651 - accuracy: 0.7761 - val_loss: 0.6606 - val_accuracy: 0.8152\n",
      "Epoch 7/100\n",
      "79/79 [==============================] - 1s 9ms/step - loss: 0.6569 - accuracy: 0.7846 - val_loss: 0.6515 - val_accuracy: 0.8130\n",
      "Epoch 8/100\n",
      "79/79 [==============================] - 1s 9ms/step - loss: 0.6482 - accuracy: 0.7915 - val_loss: 0.6424 - val_accuracy: 0.8292\n",
      "Epoch 9/100\n",
      "79/79 [==============================] - 1s 9ms/step - loss: 0.6386 - accuracy: 0.8019 - val_loss: 0.6331 - val_accuracy: 0.8200\n",
      "Epoch 10/100\n",
      "79/79 [==============================] - 1s 9ms/step - loss: 0.6295 - accuracy: 0.8071 - val_loss: 0.6241 - val_accuracy: 0.8240\n",
      "Epoch 11/100\n",
      "79/79 [==============================] - 1s 9ms/step - loss: 0.6212 - accuracy: 0.8115 - val_loss: 0.6152 - val_accuracy: 0.8384\n",
      "Epoch 12/100\n",
      "79/79 [==============================] - 1s 9ms/step - loss: 0.6132 - accuracy: 0.8152 - val_loss: 0.6068 - val_accuracy: 0.8436\n",
      "Epoch 13/100\n",
      "79/79 [==============================] - 1s 9ms/step - loss: 0.6050 - accuracy: 0.8232 - val_loss: 0.5990 - val_accuracy: 0.8436\n",
      "Epoch 14/100\n",
      "79/79 [==============================] - 1s 9ms/step - loss: 0.5975 - accuracy: 0.8277 - val_loss: 0.5916 - val_accuracy: 0.8490\n",
      "Epoch 15/100\n",
      "79/79 [==============================] - 1s 10ms/step - loss: 0.5909 - accuracy: 0.8274 - val_loss: 0.5848 - val_accuracy: 0.8528\n",
      "Epoch 16/100\n",
      "79/79 [==============================] - 1s 9ms/step - loss: 0.5849 - accuracy: 0.8288 - val_loss: 0.5784 - val_accuracy: 0.8534\n",
      "Epoch 17/100\n",
      "79/79 [==============================] - 1s 10ms/step - loss: 0.5784 - accuracy: 0.8340 - val_loss: 0.5721 - val_accuracy: 0.8540\n",
      "Epoch 18/100\n",
      "79/79 [==============================] - 1s 10ms/step - loss: 0.5724 - accuracy: 0.8383 - val_loss: 0.5664 - val_accuracy: 0.8564\n",
      "Epoch 19/100\n",
      "79/79 [==============================] - 1s 10ms/step - loss: 0.5692 - accuracy: 0.8364 - val_loss: 0.5614 - val_accuracy: 0.8544\n",
      "Epoch 20/100\n",
      "79/79 [==============================] - 1s 10ms/step - loss: 0.5620 - accuracy: 0.8419 - val_loss: 0.5561 - val_accuracy: 0.8590\n",
      "Epoch 21/100\n",
      "79/79 [==============================] - 1s 9ms/step - loss: 0.5584 - accuracy: 0.8424 - val_loss: 0.5514 - val_accuracy: 0.8582\n",
      "Epoch 22/100\n",
      "79/79 [==============================] - 1s 9ms/step - loss: 0.5546 - accuracy: 0.8428 - val_loss: 0.5471 - val_accuracy: 0.8602\n",
      "Epoch 23/100\n",
      "79/79 [==============================] - 1s 10ms/step - loss: 0.5489 - accuracy: 0.8469 - val_loss: 0.5428 - val_accuracy: 0.8608\n",
      "Epoch 24/100\n",
      "79/79 [==============================] - 1s 10ms/step - loss: 0.5456 - accuracy: 0.8490 - val_loss: 0.5388 - val_accuracy: 0.8618\n",
      "Epoch 25/100\n",
      "79/79 [==============================] - 1s 10ms/step - loss: 0.5426 - accuracy: 0.8474 - val_loss: 0.5355 - val_accuracy: 0.8592\n",
      "Epoch 26/100\n",
      "79/79 [==============================] - 1s 9ms/step - loss: 0.5390 - accuracy: 0.8473 - val_loss: 0.5317 - val_accuracy: 0.8612\n",
      "Epoch 27/100\n",
      "79/79 [==============================] - 1s 9ms/step - loss: 0.5358 - accuracy: 0.8511 - val_loss: 0.5280 - val_accuracy: 0.8626\n",
      "Epoch 28/100\n",
      "79/79 [==============================] - 1s 9ms/step - loss: 0.5313 - accuracy: 0.8529 - val_loss: 0.5246 - val_accuracy: 0.8636\n",
      "Epoch 29/100\n",
      "79/79 [==============================] - 1s 10ms/step - loss: 0.5281 - accuracy: 0.8541 - val_loss: 0.5216 - val_accuracy: 0.8654\n",
      "Epoch 30/100\n",
      "79/79 [==============================] - 1s 10ms/step - loss: 0.5258 - accuracy: 0.8525 - val_loss: 0.5186 - val_accuracy: 0.8636\n",
      "Epoch 31/100\n",
      "79/79 [==============================] - 1s 9ms/step - loss: 0.5228 - accuracy: 0.8536 - val_loss: 0.5157 - val_accuracy: 0.8660\n",
      "Epoch 32/100\n",
      "79/79 [==============================] - 1s 9ms/step - loss: 0.5197 - accuracy: 0.8530 - val_loss: 0.5129 - val_accuracy: 0.8656\n",
      "Epoch 33/100\n",
      "79/79 [==============================] - 1s 9ms/step - loss: 0.5167 - accuracy: 0.8542 - val_loss: 0.5101 - val_accuracy: 0.8664\n",
      "Epoch 34/100\n",
      "79/79 [==============================] - 1s 9ms/step - loss: 0.5155 - accuracy: 0.8551 - val_loss: 0.5080 - val_accuracy: 0.8650\n",
      "Epoch 35/100\n",
      "79/79 [==============================] - 1s 9ms/step - loss: 0.5112 - accuracy: 0.8577 - val_loss: 0.5052 - val_accuracy: 0.8662\n",
      "Epoch 36/100\n",
      "79/79 [==============================] - 1s 9ms/step - loss: 0.5106 - accuracy: 0.8563 - val_loss: 0.5027 - val_accuracy: 0.8658\n",
      "Epoch 37/100\n",
      "79/79 [==============================] - 1s 9ms/step - loss: 0.5069 - accuracy: 0.8603 - val_loss: 0.5006 - val_accuracy: 0.8672\n",
      "Epoch 38/100\n",
      "79/79 [==============================] - 1s 9ms/step - loss: 0.5058 - accuracy: 0.8597 - val_loss: 0.4983 - val_accuracy: 0.8688\n",
      "Epoch 39/100\n",
      "79/79 [==============================] - 1s 9ms/step - loss: 0.5019 - accuracy: 0.8609 - val_loss: 0.4959 - val_accuracy: 0.8692\n",
      "Epoch 40/100\n",
      "79/79 [==============================] - 1s 9ms/step - loss: 0.5017 - accuracy: 0.8606 - val_loss: 0.4939 - val_accuracy: 0.8690\n",
      "Epoch 41/100\n",
      "79/79 [==============================] - 1s 9ms/step - loss: 0.4999 - accuracy: 0.8599 - val_loss: 0.4919 - val_accuracy: 0.8694\n",
      "Epoch 42/100\n",
      "79/79 [==============================] - 1s 9ms/step - loss: 0.4965 - accuracy: 0.8607 - val_loss: 0.4897 - val_accuracy: 0.8700\n",
      "Epoch 43/100\n",
      "79/79 [==============================] - 1s 9ms/step - loss: 0.4948 - accuracy: 0.8635 - val_loss: 0.4879 - val_accuracy: 0.8700\n",
      "Epoch 44/100\n",
      "79/79 [==============================] - 1s 9ms/step - loss: 0.4911 - accuracy: 0.8651 - val_loss: 0.4859 - val_accuracy: 0.8702\n",
      "Epoch 45/100\n",
      "79/79 [==============================] - 1s 9ms/step - loss: 0.4911 - accuracy: 0.8631 - val_loss: 0.4842 - val_accuracy: 0.8688\n",
      "Epoch 46/100\n",
      "79/79 [==============================] - 1s 9ms/step - loss: 0.4886 - accuracy: 0.8626 - val_loss: 0.4824 - val_accuracy: 0.8702\n",
      "Epoch 47/100\n",
      "79/79 [==============================] - 1s 10ms/step - loss: 0.4868 - accuracy: 0.8645 - val_loss: 0.4806 - val_accuracy: 0.8714\n",
      "Epoch 48/100\n",
      "79/79 [==============================] - 1s 10ms/step - loss: 0.4856 - accuracy: 0.8653 - val_loss: 0.4791 - val_accuracy: 0.8700\n",
      "Epoch 49/100\n",
      "79/79 [==============================] - 1s 9ms/step - loss: 0.4830 - accuracy: 0.8668 - val_loss: 0.4775 - val_accuracy: 0.8722\n",
      "Epoch 50/100\n",
      "79/79 [==============================] - 1s 9ms/step - loss: 0.4826 - accuracy: 0.8648 - val_loss: 0.4763 - val_accuracy: 0.8736\n",
      "Epoch 51/100\n",
      "79/79 [==============================] - 1s 9ms/step - loss: 0.4810 - accuracy: 0.8655 - val_loss: 0.4744 - val_accuracy: 0.8730\n",
      "Epoch 52/100\n",
      "79/79 [==============================] - 1s 9ms/step - loss: 0.4793 - accuracy: 0.8659 - val_loss: 0.4729 - val_accuracy: 0.8722\n",
      "Epoch 53/100\n",
      "79/79 [==============================] - 1s 9ms/step - loss: 0.4764 - accuracy: 0.8685 - val_loss: 0.4712 - val_accuracy: 0.8730\n",
      "Epoch 54/100\n",
      "79/79 [==============================] - 1s 9ms/step - loss: 0.4758 - accuracy: 0.8698 - val_loss: 0.4697 - val_accuracy: 0.8722\n",
      "Epoch 55/100\n",
      "79/79 [==============================] - 1s 9ms/step - loss: 0.4741 - accuracy: 0.8681 - val_loss: 0.4686 - val_accuracy: 0.8732\n",
      "Epoch 56/100\n",
      "79/79 [==============================] - 1s 9ms/step - loss: 0.4717 - accuracy: 0.8702 - val_loss: 0.4667 - val_accuracy: 0.8734\n",
      "Epoch 57/100\n",
      "79/79 [==============================] - 1s 9ms/step - loss: 0.4702 - accuracy: 0.8702 - val_loss: 0.4654 - val_accuracy: 0.8730\n",
      "Epoch 58/100\n",
      "79/79 [==============================] - 1s 9ms/step - loss: 0.4689 - accuracy: 0.8698 - val_loss: 0.4643 - val_accuracy: 0.8730\n",
      "Epoch 59/100\n",
      "79/79 [==============================] - 1s 9ms/step - loss: 0.4680 - accuracy: 0.8711 - val_loss: 0.4628 - val_accuracy: 0.8726\n",
      "Epoch 60/100\n",
      "79/79 [==============================] - 1s 9ms/step - loss: 0.4669 - accuracy: 0.8706 - val_loss: 0.4616 - val_accuracy: 0.8750\n",
      "Epoch 61/100\n",
      "79/79 [==============================] - 1s 9ms/step - loss: 0.4658 - accuracy: 0.8711 - val_loss: 0.4603 - val_accuracy: 0.8734\n",
      "Epoch 62/100\n",
      "79/79 [==============================] - 1s 9ms/step - loss: 0.4630 - accuracy: 0.8732 - val_loss: 0.4596 - val_accuracy: 0.8726\n",
      "Epoch 63/100\n",
      "79/79 [==============================] - 1s 9ms/step - loss: 0.4629 - accuracy: 0.8694 - val_loss: 0.4577 - val_accuracy: 0.8734\n",
      "Epoch 64/100\n",
      "79/79 [==============================] - 1s 9ms/step - loss: 0.4607 - accuracy: 0.8741 - val_loss: 0.4564 - val_accuracy: 0.8736\n",
      "Epoch 65/100\n",
      "79/79 [==============================] - 1s 9ms/step - loss: 0.4587 - accuracy: 0.8726 - val_loss: 0.4554 - val_accuracy: 0.8746\n",
      "Epoch 66/100\n",
      "79/79 [==============================] - 1s 10ms/step - loss: 0.4597 - accuracy: 0.8720 - val_loss: 0.4546 - val_accuracy: 0.8762\n",
      "Epoch 67/100\n",
      "79/79 [==============================] - 1s 10ms/step - loss: 0.4575 - accuracy: 0.8743 - val_loss: 0.4530 - val_accuracy: 0.8748\n",
      "Epoch 68/100\n",
      "79/79 [==============================] - 1s 10ms/step - loss: 0.4559 - accuracy: 0.8750 - val_loss: 0.4519 - val_accuracy: 0.8746\n",
      "Epoch 69/100\n",
      "79/79 [==============================] - 1s 10ms/step - loss: 0.4554 - accuracy: 0.8723 - val_loss: 0.4509 - val_accuracy: 0.8752\n",
      "Epoch 70/100\n",
      "79/79 [==============================] - 1s 10ms/step - loss: 0.4535 - accuracy: 0.8762 - val_loss: 0.4509 - val_accuracy: 0.8736\n",
      "Epoch 71/100\n",
      "79/79 [==============================] - 1s 9ms/step - loss: 0.4536 - accuracy: 0.8732 - val_loss: 0.4488 - val_accuracy: 0.8758\n",
      "Epoch 72/100\n",
      "79/79 [==============================] - 1s 9ms/step - loss: 0.4522 - accuracy: 0.8739 - val_loss: 0.4479 - val_accuracy: 0.8762\n",
      "Epoch 73/100\n",
      "79/79 [==============================] - 1s 9ms/step - loss: 0.4495 - accuracy: 0.8752 - val_loss: 0.4475 - val_accuracy: 0.8758\n",
      "Epoch 74/100\n",
      "79/79 [==============================] - 1s 9ms/step - loss: 0.4508 - accuracy: 0.8735 - val_loss: 0.4461 - val_accuracy: 0.8758\n",
      "Epoch 75/100\n",
      "79/79 [==============================] - 1s 9ms/step - loss: 0.4479 - accuracy: 0.8759 - val_loss: 0.4450 - val_accuracy: 0.8758\n",
      "Epoch 76/100\n",
      "79/79 [==============================] - 1s 9ms/step - loss: 0.4491 - accuracy: 0.8750 - val_loss: 0.4438 - val_accuracy: 0.8754\n",
      "Epoch 77/100\n",
      "79/79 [==============================] - 1s 9ms/step - loss: 0.4473 - accuracy: 0.8756 - val_loss: 0.4430 - val_accuracy: 0.8758\n",
      "Epoch 78/100\n",
      "79/79 [==============================] - 1s 9ms/step - loss: 0.4465 - accuracy: 0.8741 - val_loss: 0.4422 - val_accuracy: 0.8758\n",
      "Epoch 79/100\n",
      "79/79 [==============================] - 1s 9ms/step - loss: 0.4456 - accuracy: 0.8750 - val_loss: 0.4412 - val_accuracy: 0.8796\n",
      "Epoch 80/100\n",
      "79/79 [==============================] - 1s 9ms/step - loss: 0.4451 - accuracy: 0.8758 - val_loss: 0.4404 - val_accuracy: 0.8764\n",
      "Epoch 81/100\n",
      "79/79 [==============================] - 1s 9ms/step - loss: 0.4427 - accuracy: 0.8749 - val_loss: 0.4397 - val_accuracy: 0.8770\n",
      "Epoch 82/100\n",
      "79/79 [==============================] - 1s 9ms/step - loss: 0.4414 - accuracy: 0.8779 - val_loss: 0.4388 - val_accuracy: 0.8774\n",
      "Epoch 83/100\n",
      "79/79 [==============================] - 1s 9ms/step - loss: 0.4401 - accuracy: 0.8777 - val_loss: 0.4377 - val_accuracy: 0.8790\n",
      "Epoch 84/100\n",
      "79/79 [==============================] - 1s 9ms/step - loss: 0.4415 - accuracy: 0.8760 - val_loss: 0.4372 - val_accuracy: 0.8804\n",
      "Epoch 85/100\n",
      "79/79 [==============================] - 1s 9ms/step - loss: 0.4398 - accuracy: 0.8766 - val_loss: 0.4367 - val_accuracy: 0.8802\n",
      "Epoch 86/100\n",
      "79/79 [==============================] - 1s 9ms/step - loss: 0.4384 - accuracy: 0.8782 - val_loss: 0.4357 - val_accuracy: 0.8792\n",
      "Epoch 87/100\n",
      "79/79 [==============================] - 1s 9ms/step - loss: 0.4382 - accuracy: 0.8783 - val_loss: 0.4348 - val_accuracy: 0.8806\n",
      "Epoch 88/100\n",
      "79/79 [==============================] - 1s 9ms/step - loss: 0.4373 - accuracy: 0.8792 - val_loss: 0.4341 - val_accuracy: 0.8808\n",
      "Epoch 89/100\n",
      "79/79 [==============================] - 1s 9ms/step - loss: 0.4370 - accuracy: 0.8784 - val_loss: 0.4333 - val_accuracy: 0.8810\n",
      "Epoch 90/100\n",
      "79/79 [==============================] - 1s 9ms/step - loss: 0.4350 - accuracy: 0.8787 - val_loss: 0.4325 - val_accuracy: 0.8830\n",
      "Epoch 91/100\n",
      "79/79 [==============================] - 1s 9ms/step - loss: 0.4340 - accuracy: 0.8785 - val_loss: 0.4321 - val_accuracy: 0.8800\n",
      "Epoch 92/100\n",
      "79/79 [==============================] - 1s 9ms/step - loss: 0.4343 - accuracy: 0.8777 - val_loss: 0.4316 - val_accuracy: 0.8802\n",
      "Epoch 93/100\n",
      "79/79 [==============================] - 1s 9ms/step - loss: 0.4320 - accuracy: 0.8798 - val_loss: 0.4305 - val_accuracy: 0.8798\n",
      "Epoch 94/100\n",
      "79/79 [==============================] - 1s 9ms/step - loss: 0.4321 - accuracy: 0.8786 - val_loss: 0.4302 - val_accuracy: 0.8808\n",
      "Epoch 95/100\n",
      "79/79 [==============================] - 1s 9ms/step - loss: 0.4306 - accuracy: 0.8815 - val_loss: 0.4295 - val_accuracy: 0.8796\n",
      "Epoch 96/100\n",
      "79/79 [==============================] - 1s 9ms/step - loss: 0.4305 - accuracy: 0.8802 - val_loss: 0.4295 - val_accuracy: 0.8802\n",
      "Epoch 97/100\n",
      "79/79 [==============================] - 1s 9ms/step - loss: 0.4310 - accuracy: 0.8791 - val_loss: 0.4286 - val_accuracy: 0.8808\n",
      "Epoch 98/100\n",
      "79/79 [==============================] - 1s 9ms/step - loss: 0.4299 - accuracy: 0.8795 - val_loss: 0.4280 - val_accuracy: 0.8794\n",
      "Epoch 99/100\n",
      "79/79 [==============================] - 1s 9ms/step - loss: 0.4314 - accuracy: 0.8787 - val_loss: 0.4277 - val_accuracy: 0.8804\n",
      "Epoch 100/100\n",
      "79/79 [==============================] - 1s 9ms/step - loss: 0.4287 - accuracy: 0.8799 - val_loss: 0.4277 - val_accuracy: 0.8802\n"
     ]
    },
    {
     "data": {
      "text/plain": "<Figure size 640x480 with 1 Axes>",
      "image/png": "[encoded data removed]"
     },
     "metadata": {},
     "output_type": "display_data"
    },
    {
     "data": {
      "text/plain": "<Figure size 640x480 with 1 Axes>",
      "image/png": "[encoded data removed]"
     },
     "metadata": {},
     "output_type": "display_data"
    }
   ],
   "source": [
    "# build model\n",
    "tfidf_model = define_tf_idf_model(dropout=TF_DROPOUT, l1=TF_L1, l2=TF_L2)\n",
    "tfidf_model.compile(\n",
    "    loss='binary_crossentropy',\n",
    "    optimizer=keras.optimizers.Adam(learning_rate=TF_LEARNING_RATE),\n",
    "    metrics=['accuracy'])\n",
    "# train model\n",
    "print(\"begin training\")\n",
    "history = tfidf_model.fit(\n",
    "    tfidf_data,\n",
    "    taining_labels,\n",
    "    validation_data=(valid_data, valid_labels),\n",
    "    epochs=TF_EPOCHS,\n",
    "    batch_size=TF_BATCH_SIZE)\n",
    "plot_training(history)"
   ],
   "metadata": {
    "collapsed": false,
    "ExecuteTime": {
     "end_time": "2023-05-15T14:15:09.422333Z",
     "start_time": "2023-05-15T14:13:54.679583Z"
    }
   }
  },
  {
   "cell_type": "code",
   "execution_count": 17,
   "outputs": [
    {
     "name": "stdout",
     "output_type": "stream",
     "text": [
      "begin evaluation\n",
      "157/157 [==============================] - 0s 703us/step - loss: 0.4259 - accuracy: 0.8902\n"
     ]
    },
    {
     "data": {
      "text/plain": "[0.425873339176178, 0.8902000188827515]"
     },
     "execution_count": 17,
     "metadata": {},
     "output_type": "execute_result"
    }
   ],
   "source": [
    "print(\"begin evaluation\")\n",
    "tfidf_model.evaluate(test_data, test_labels)"
   ],
   "metadata": {
    "collapsed": false,
    "ExecuteTime": {
     "end_time": "2023-05-15T14:15:09.587309Z",
     "start_time": "2023-05-15T14:15:09.416901Z"
    }
   }
  },
  {
   "cell_type": "markdown",
   "source": [
    "train a model on word2vec embeddings"
   ],
   "metadata": {
    "collapsed": false
   }
  },
  {
   "cell_type": "code",
   "execution_count": 18,
   "outputs": [],
   "source": [
    "def define_word2vec_model(dropout=0.4, l1=1e-5, l2=1e-4):\n",
    "  model = keras.models.Sequential()\n",
    "  model.add(layers.Dropout(dropout))\n",
    "  model.add(layers.Dense(256, activation='relu', kernel_regularizer=regularizers.L1L2(l1=l1, l2=l2)))\n",
    "  model.add(layers.Dropout(dropout))\n",
    "  model.add(layers.Dense(128, activation='relu', kernel_regularizer=regularizers.L1L2(l1=l1, l2=l2)))\n",
    "  model.add(layers.Dropout(dropout))\n",
    "  model.add(layers.Dense(1, activation='sigmoid', kernel_regularizer=regularizers.L1L2(l1=l1, l2=l2)))\n",
    "  return model"
   ],
   "metadata": {
    "collapsed": false,
    "ExecuteTime": {
     "end_time": "2023-05-15T14:15:09.590946Z",
     "start_time": "2023-05-15T14:15:09.588770Z"
    }
   }
  },
  {
   "cell_type": "code",
   "execution_count": 19,
   "outputs": [],
   "source": [
    "W2V_LEARNING_RATE = 2e-4\n",
    "W2V_BATCH_SIZE = 512\n",
    "W2V_EPOCHS = 100\n",
    "\n",
    "W2V_DROPOUT = 0.1\n",
    "W2V_L1 = 2e-5\n",
    "W2V_L2 = 1e-4"
   ],
   "metadata": {
    "collapsed": false,
    "ExecuteTime": {
     "end_time": "2023-05-15T14:15:09.593691Z",
     "start_time": "2023-05-15T14:15:09.591574Z"
    }
   }
  },
  {
   "cell_type": "code",
   "execution_count": 20,
   "metadata": {
    "ExecuteTime": {
     "end_time": "2023-05-15T14:15:47.171214Z",
     "start_time": "2023-05-15T14:15:09.595554Z"
    }
   },
   "outputs": [
    {
     "name": "stdout",
     "output_type": "stream",
     "text": [
      "begin training\n",
      "Epoch 1/100\n",
      "79/79 [==============================] - 1s 5ms/step - loss: 0.8044 - accuracy: 0.7101 - val_loss: 0.7093 - val_accuracy: 0.7930\n",
      "Epoch 2/100\n",
      "79/79 [==============================] - 0s 4ms/step - loss: 0.6358 - accuracy: 0.7894 - val_loss: 0.5574 - val_accuracy: 0.8154\n",
      "Epoch 3/100\n",
      "79/79 [==============================] - 0s 4ms/step - loss: 0.5523 - accuracy: 0.8061 - val_loss: 0.5064 - val_accuracy: 0.8302\n",
      "Epoch 4/100\n",
      "79/79 [==============================] - 0s 4ms/step - loss: 0.5217 - accuracy: 0.8179 - val_loss: 0.4817 - val_accuracy: 0.8420\n",
      "Epoch 5/100\n",
      "79/79 [==============================] - 0s 4ms/step - loss: 0.5036 - accuracy: 0.8221 - val_loss: 0.4672 - val_accuracy: 0.8430\n",
      "Epoch 6/100\n",
      "79/79 [==============================] - 0s 5ms/step - loss: 0.4922 - accuracy: 0.8259 - val_loss: 0.4577 - val_accuracy: 0.8448\n",
      "Epoch 7/100\n",
      "79/79 [==============================] - 0s 4ms/step - loss: 0.4846 - accuracy: 0.8272 - val_loss: 0.4492 - val_accuracy: 0.8480\n",
      "Epoch 8/100\n",
      "79/79 [==============================] - 0s 5ms/step - loss: 0.4782 - accuracy: 0.8278 - val_loss: 0.4423 - val_accuracy: 0.8514\n",
      "Epoch 9/100\n",
      "79/79 [==============================] - 0s 4ms/step - loss: 0.4735 - accuracy: 0.8286 - val_loss: 0.4392 - val_accuracy: 0.8524\n",
      "Epoch 10/100\n",
      "79/79 [==============================] - 0s 4ms/step - loss: 0.4705 - accuracy: 0.8292 - val_loss: 0.4354 - val_accuracy: 0.8538\n",
      "Epoch 11/100\n",
      "79/79 [==============================] - 0s 4ms/step - loss: 0.4703 - accuracy: 0.8301 - val_loss: 0.4326 - val_accuracy: 0.8546\n",
      "Epoch 12/100\n",
      "79/79 [==============================] - 0s 5ms/step - loss: 0.4660 - accuracy: 0.8302 - val_loss: 0.4297 - val_accuracy: 0.8538\n",
      "Epoch 13/100\n",
      "79/79 [==============================] - 0s 5ms/step - loss: 0.4633 - accuracy: 0.8299 - val_loss: 0.4276 - val_accuracy: 0.8556\n",
      "Epoch 14/100\n",
      "79/79 [==============================] - 0s 4ms/step - loss: 0.4589 - accuracy: 0.8305 - val_loss: 0.4285 - val_accuracy: 0.8504\n",
      "Epoch 15/100\n",
      "79/79 [==============================] - 0s 5ms/step - loss: 0.4595 - accuracy: 0.8302 - val_loss: 0.4238 - val_accuracy: 0.8548\n",
      "Epoch 16/100\n",
      "79/79 [==============================] - 0s 4ms/step - loss: 0.4571 - accuracy: 0.8306 - val_loss: 0.4221 - val_accuracy: 0.8524\n",
      "Epoch 17/100\n",
      "79/79 [==============================] - 0s 4ms/step - loss: 0.4540 - accuracy: 0.8310 - val_loss: 0.4224 - val_accuracy: 0.8532\n",
      "Epoch 18/100\n",
      "79/79 [==============================] - 0s 5ms/step - loss: 0.4507 - accuracy: 0.8321 - val_loss: 0.4177 - val_accuracy: 0.8554\n",
      "Epoch 19/100\n",
      "79/79 [==============================] - 0s 5ms/step - loss: 0.4490 - accuracy: 0.8336 - val_loss: 0.4157 - val_accuracy: 0.8554\n",
      "Epoch 20/100\n",
      "79/79 [==============================] - 0s 4ms/step - loss: 0.4520 - accuracy: 0.8283 - val_loss: 0.4147 - val_accuracy: 0.8572\n",
      "Epoch 21/100\n",
      "79/79 [==============================] - 0s 4ms/step - loss: 0.4469 - accuracy: 0.8317 - val_loss: 0.4135 - val_accuracy: 0.8552\n",
      "Epoch 22/100\n",
      "79/79 [==============================] - 0s 5ms/step - loss: 0.4453 - accuracy: 0.8324 - val_loss: 0.4133 - val_accuracy: 0.8534\n",
      "Epoch 23/100\n",
      "79/79 [==============================] - 0s 5ms/step - loss: 0.4456 - accuracy: 0.8311 - val_loss: 0.4106 - val_accuracy: 0.8550\n",
      "Epoch 24/100\n",
      "79/79 [==============================] - 0s 5ms/step - loss: 0.4433 - accuracy: 0.8328 - val_loss: 0.4096 - val_accuracy: 0.8558\n",
      "Epoch 25/100\n",
      "79/79 [==============================] - 0s 5ms/step - loss: 0.4424 - accuracy: 0.8310 - val_loss: 0.4093 - val_accuracy: 0.8546\n",
      "Epoch 26/100\n",
      "79/79 [==============================] - 0s 5ms/step - loss: 0.4389 - accuracy: 0.8335 - val_loss: 0.4066 - val_accuracy: 0.8556\n",
      "Epoch 27/100\n",
      "79/79 [==============================] - 0s 5ms/step - loss: 0.4390 - accuracy: 0.8317 - val_loss: 0.4055 - val_accuracy: 0.8564\n",
      "Epoch 28/100\n",
      "79/79 [==============================] - 0s 4ms/step - loss: 0.4379 - accuracy: 0.8322 - val_loss: 0.4047 - val_accuracy: 0.8560\n",
      "Epoch 29/100\n",
      "79/79 [==============================] - 0s 5ms/step - loss: 0.4395 - accuracy: 0.8326 - val_loss: 0.4044 - val_accuracy: 0.8552\n",
      "Epoch 30/100\n",
      "79/79 [==============================] - 0s 4ms/step - loss: 0.4362 - accuracy: 0.8339 - val_loss: 0.4028 - val_accuracy: 0.8568\n",
      "Epoch 31/100\n",
      "79/79 [==============================] - 0s 5ms/step - loss: 0.4339 - accuracy: 0.8331 - val_loss: 0.4020 - val_accuracy: 0.8540\n",
      "Epoch 32/100\n",
      "79/79 [==============================] - 0s 5ms/step - loss: 0.4345 - accuracy: 0.8331 - val_loss: 0.4004 - val_accuracy: 0.8564\n",
      "Epoch 33/100\n",
      "79/79 [==============================] - 0s 5ms/step - loss: 0.4318 - accuracy: 0.8319 - val_loss: 0.3998 - val_accuracy: 0.8540\n",
      "Epoch 34/100\n",
      "79/79 [==============================] - 0s 5ms/step - loss: 0.4322 - accuracy: 0.8328 - val_loss: 0.4007 - val_accuracy: 0.8548\n",
      "Epoch 35/100\n",
      "79/79 [==============================] - 0s 4ms/step - loss: 0.4297 - accuracy: 0.8337 - val_loss: 0.3980 - val_accuracy: 0.8562\n",
      "Epoch 36/100\n",
      "79/79 [==============================] - 0s 5ms/step - loss: 0.4288 - accuracy: 0.8346 - val_loss: 0.3967 - val_accuracy: 0.8572\n",
      "Epoch 37/100\n",
      "79/79 [==============================] - 0s 5ms/step - loss: 0.4294 - accuracy: 0.8345 - val_loss: 0.3967 - val_accuracy: 0.8578\n",
      "Epoch 38/100\n",
      "79/79 [==============================] - 0s 5ms/step - loss: 0.4281 - accuracy: 0.8349 - val_loss: 0.3980 - val_accuracy: 0.8546\n",
      "Epoch 39/100\n",
      "79/79 [==============================] - 0s 4ms/step - loss: 0.4287 - accuracy: 0.8339 - val_loss: 0.3945 - val_accuracy: 0.8582\n",
      "Epoch 40/100\n",
      "79/79 [==============================] - 0s 4ms/step - loss: 0.4254 - accuracy: 0.8347 - val_loss: 0.3941 - val_accuracy: 0.8580\n",
      "Epoch 41/100\n",
      "79/79 [==============================] - 0s 5ms/step - loss: 0.4255 - accuracy: 0.8355 - val_loss: 0.3935 - val_accuracy: 0.8578\n",
      "Epoch 42/100\n",
      "79/79 [==============================] - 0s 4ms/step - loss: 0.4234 - accuracy: 0.8363 - val_loss: 0.3939 - val_accuracy: 0.8560\n",
      "Epoch 43/100\n",
      "79/79 [==============================] - 0s 5ms/step - loss: 0.4254 - accuracy: 0.8338 - val_loss: 0.3925 - val_accuracy: 0.8576\n",
      "Epoch 44/100\n",
      "79/79 [==============================] - 0s 5ms/step - loss: 0.4227 - accuracy: 0.8360 - val_loss: 0.3912 - val_accuracy: 0.8574\n",
      "Epoch 45/100\n",
      "79/79 [==============================] - 0s 5ms/step - loss: 0.4231 - accuracy: 0.8335 - val_loss: 0.3907 - val_accuracy: 0.8578\n",
      "Epoch 46/100\n",
      "79/79 [==============================] - 0s 5ms/step - loss: 0.4219 - accuracy: 0.8380 - val_loss: 0.3946 - val_accuracy: 0.8530\n",
      "Epoch 47/100\n",
      "79/79 [==============================] - 0s 4ms/step - loss: 0.4214 - accuracy: 0.8357 - val_loss: 0.3886 - val_accuracy: 0.8582\n",
      "Epoch 48/100\n",
      "79/79 [==============================] - 0s 5ms/step - loss: 0.4197 - accuracy: 0.8360 - val_loss: 0.3895 - val_accuracy: 0.8588\n",
      "Epoch 49/100\n",
      "79/79 [==============================] - 0s 5ms/step - loss: 0.4180 - accuracy: 0.8359 - val_loss: 0.3873 - val_accuracy: 0.8590\n",
      "Epoch 50/100\n",
      "79/79 [==============================] - 0s 5ms/step - loss: 0.4187 - accuracy: 0.8358 - val_loss: 0.3872 - val_accuracy: 0.8590\n",
      "Epoch 51/100\n",
      "79/79 [==============================] - 0s 5ms/step - loss: 0.4192 - accuracy: 0.8357 - val_loss: 0.3859 - val_accuracy: 0.8578\n",
      "Epoch 52/100\n",
      "79/79 [==============================] - 0s 5ms/step - loss: 0.4154 - accuracy: 0.8364 - val_loss: 0.3849 - val_accuracy: 0.8578\n",
      "Epoch 53/100\n",
      "79/79 [==============================] - 0s 5ms/step - loss: 0.4190 - accuracy: 0.8349 - val_loss: 0.3851 - val_accuracy: 0.8606\n",
      "Epoch 54/100\n",
      "79/79 [==============================] - 0s 5ms/step - loss: 0.4155 - accuracy: 0.8363 - val_loss: 0.3845 - val_accuracy: 0.8598\n",
      "Epoch 55/100\n",
      "79/79 [==============================] - 0s 5ms/step - loss: 0.4162 - accuracy: 0.8362 - val_loss: 0.3857 - val_accuracy: 0.8590\n",
      "Epoch 56/100\n",
      "79/79 [==============================] - 0s 5ms/step - loss: 0.4143 - accuracy: 0.8359 - val_loss: 0.3838 - val_accuracy: 0.8592\n",
      "Epoch 57/100\n",
      "79/79 [==============================] - 0s 5ms/step - loss: 0.4118 - accuracy: 0.8376 - val_loss: 0.3829 - val_accuracy: 0.8590\n",
      "Epoch 58/100\n",
      "79/79 [==============================] - 0s 4ms/step - loss: 0.4134 - accuracy: 0.8372 - val_loss: 0.3838 - val_accuracy: 0.8584\n",
      "Epoch 59/100\n",
      "79/79 [==============================] - 0s 5ms/step - loss: 0.4130 - accuracy: 0.8353 - val_loss: 0.3821 - val_accuracy: 0.8594\n",
      "Epoch 60/100\n",
      "79/79 [==============================] - 0s 5ms/step - loss: 0.4120 - accuracy: 0.8372 - val_loss: 0.3816 - val_accuracy: 0.8604\n",
      "Epoch 61/100\n",
      "79/79 [==============================] - 0s 5ms/step - loss: 0.4141 - accuracy: 0.8353 - val_loss: 0.3809 - val_accuracy: 0.8600\n",
      "Epoch 62/100\n",
      "79/79 [==============================] - 0s 5ms/step - loss: 0.4112 - accuracy: 0.8373 - val_loss: 0.3814 - val_accuracy: 0.8594\n",
      "Epoch 63/100\n",
      "79/79 [==============================] - 0s 4ms/step - loss: 0.4111 - accuracy: 0.8363 - val_loss: 0.3805 - val_accuracy: 0.8588\n",
      "Epoch 64/100\n",
      "79/79 [==============================] - 0s 4ms/step - loss: 0.4107 - accuracy: 0.8389 - val_loss: 0.3798 - val_accuracy: 0.8608\n",
      "Epoch 65/100\n",
      "79/79 [==============================] - 0s 5ms/step - loss: 0.4084 - accuracy: 0.8381 - val_loss: 0.3797 - val_accuracy: 0.8578\n",
      "Epoch 66/100\n",
      "79/79 [==============================] - 0s 5ms/step - loss: 0.4088 - accuracy: 0.8371 - val_loss: 0.3810 - val_accuracy: 0.8584\n",
      "Epoch 67/100\n",
      "79/79 [==============================] - 0s 5ms/step - loss: 0.4091 - accuracy: 0.8375 - val_loss: 0.3795 - val_accuracy: 0.8604\n",
      "Epoch 68/100\n",
      "79/79 [==============================] - 0s 5ms/step - loss: 0.4066 - accuracy: 0.8395 - val_loss: 0.3794 - val_accuracy: 0.8580\n",
      "Epoch 69/100\n",
      "79/79 [==============================] - 0s 5ms/step - loss: 0.4062 - accuracy: 0.8374 - val_loss: 0.3778 - val_accuracy: 0.8600\n",
      "Epoch 70/100\n",
      "79/79 [==============================] - 0s 5ms/step - loss: 0.4091 - accuracy: 0.8382 - val_loss: 0.3785 - val_accuracy: 0.8590\n",
      "Epoch 71/100\n",
      "79/79 [==============================] - 0s 5ms/step - loss: 0.4067 - accuracy: 0.8393 - val_loss: 0.3800 - val_accuracy: 0.8576\n",
      "Epoch 72/100\n",
      "79/79 [==============================] - 0s 5ms/step - loss: 0.4076 - accuracy: 0.8372 - val_loss: 0.3768 - val_accuracy: 0.8596\n",
      "Epoch 73/100\n",
      "79/79 [==============================] - 0s 5ms/step - loss: 0.4063 - accuracy: 0.8371 - val_loss: 0.3772 - val_accuracy: 0.8600\n",
      "Epoch 74/100\n",
      "79/79 [==============================] - 0s 5ms/step - loss: 0.4031 - accuracy: 0.8408 - val_loss: 0.3756 - val_accuracy: 0.8608\n",
      "Epoch 75/100\n",
      "79/79 [==============================] - 0s 5ms/step - loss: 0.4057 - accuracy: 0.8374 - val_loss: 0.3752 - val_accuracy: 0.8610\n",
      "Epoch 76/100\n",
      "79/79 [==============================] - 0s 5ms/step - loss: 0.4071 - accuracy: 0.8364 - val_loss: 0.3758 - val_accuracy: 0.8584\n",
      "Epoch 77/100\n",
      "79/79 [==============================] - 0s 5ms/step - loss: 0.4037 - accuracy: 0.8390 - val_loss: 0.3744 - val_accuracy: 0.8604\n",
      "Epoch 78/100\n",
      "79/79 [==============================] - 0s 5ms/step - loss: 0.4050 - accuracy: 0.8371 - val_loss: 0.3751 - val_accuracy: 0.8598\n",
      "Epoch 79/100\n",
      "79/79 [==============================] - 0s 5ms/step - loss: 0.4033 - accuracy: 0.8390 - val_loss: 0.3744 - val_accuracy: 0.8612\n",
      "Epoch 80/100\n",
      "79/79 [==============================] - 0s 5ms/step - loss: 0.4029 - accuracy: 0.8397 - val_loss: 0.3746 - val_accuracy: 0.8600\n",
      "Epoch 81/100\n",
      "79/79 [==============================] - 0s 5ms/step - loss: 0.4027 - accuracy: 0.8392 - val_loss: 0.3751 - val_accuracy: 0.8592\n",
      "Epoch 82/100\n",
      "79/79 [==============================] - 0s 5ms/step - loss: 0.3997 - accuracy: 0.8400 - val_loss: 0.3747 - val_accuracy: 0.8584\n",
      "Epoch 83/100\n",
      "79/79 [==============================] - 0s 5ms/step - loss: 0.4014 - accuracy: 0.8389 - val_loss: 0.3740 - val_accuracy: 0.8600\n",
      "Epoch 84/100\n",
      "79/79 [==============================] - 0s 5ms/step - loss: 0.4002 - accuracy: 0.8403 - val_loss: 0.3723 - val_accuracy: 0.8588\n",
      "Epoch 85/100\n",
      "79/79 [==============================] - 0s 5ms/step - loss: 0.4006 - accuracy: 0.8394 - val_loss: 0.3747 - val_accuracy: 0.8596\n",
      "Epoch 86/100\n",
      "79/79 [==============================] - 0s 5ms/step - loss: 0.3989 - accuracy: 0.8414 - val_loss: 0.3724 - val_accuracy: 0.8594\n",
      "Epoch 87/100\n",
      "79/79 [==============================] - 0s 5ms/step - loss: 0.3993 - accuracy: 0.8404 - val_loss: 0.3733 - val_accuracy: 0.8604\n",
      "Epoch 88/100\n",
      "79/79 [==============================] - 0s 5ms/step - loss: 0.3997 - accuracy: 0.8386 - val_loss: 0.3718 - val_accuracy: 0.8624\n",
      "Epoch 89/100\n",
      "79/79 [==============================] - 0s 5ms/step - loss: 0.3986 - accuracy: 0.8407 - val_loss: 0.3730 - val_accuracy: 0.8592\n",
      "Epoch 90/100\n",
      "79/79 [==============================] - 0s 5ms/step - loss: 0.3993 - accuracy: 0.8391 - val_loss: 0.3706 - val_accuracy: 0.8584\n",
      "Epoch 91/100\n",
      "79/79 [==============================] - 0s 5ms/step - loss: 0.3990 - accuracy: 0.8390 - val_loss: 0.3700 - val_accuracy: 0.8614\n",
      "Epoch 92/100\n",
      "79/79 [==============================] - 0s 5ms/step - loss: 0.3958 - accuracy: 0.8422 - val_loss: 0.3700 - val_accuracy: 0.8588\n",
      "Epoch 93/100\n",
      "79/79 [==============================] - 0s 5ms/step - loss: 0.3950 - accuracy: 0.8414 - val_loss: 0.3705 - val_accuracy: 0.8612\n",
      "Epoch 94/100\n",
      "79/79 [==============================] - 0s 5ms/step - loss: 0.3972 - accuracy: 0.8416 - val_loss: 0.3703 - val_accuracy: 0.8598\n",
      "Epoch 95/100\n",
      "79/79 [==============================] - 0s 5ms/step - loss: 0.3957 - accuracy: 0.8416 - val_loss: 0.3693 - val_accuracy: 0.8596\n",
      "Epoch 96/100\n",
      "79/79 [==============================] - 0s 5ms/step - loss: 0.3956 - accuracy: 0.8424 - val_loss: 0.3692 - val_accuracy: 0.8614\n",
      "Epoch 97/100\n",
      "79/79 [==============================] - 0s 5ms/step - loss: 0.3941 - accuracy: 0.8415 - val_loss: 0.3673 - val_accuracy: 0.8610\n",
      "Epoch 98/100\n",
      "79/79 [==============================] - 0s 5ms/step - loss: 0.3946 - accuracy: 0.8420 - val_loss: 0.3708 - val_accuracy: 0.8606\n",
      "Epoch 99/100\n",
      "79/79 [==============================] - 0s 5ms/step - loss: 0.3946 - accuracy: 0.8424 - val_loss: 0.3719 - val_accuracy: 0.8558\n",
      "Epoch 100/100\n",
      "79/79 [==============================] - 0s 5ms/step - loss: 0.3939 - accuracy: 0.8393 - val_loss: 0.3708 - val_accuracy: 0.8588\n"
     ]
    },
    {
     "data": {
      "text/plain": "<Figure size 640x480 with 1 Axes>",
      "image/png": "[encoded data removed]"
     },
     "metadata": {},
     "output_type": "display_data"
    },
    {
     "data": {
      "text/plain": "<Figure size 640x480 with 1 Axes>",
      "image/png": "[encoded data removed]"
     },
     "metadata": {},
     "output_type": "display_data"
    }
   ],
   "source": [
    "# build model\n",
    "w2v_model = define_word2vec_model(dropout=W2V_DROPOUT, l1=W2V_L1, l2=W2V_L2)\n",
    "w2v_model.compile(\n",
    "    loss='binary_crossentropy',\n",
    "    optimizer=keras.optimizers.Adam(learning_rate=W2V_LEARNING_RATE),\n",
    "    metrics=['accuracy'])\n",
    "# train model\n",
    "print(\"begin training\")\n",
    "history = w2v_model.fit(\n",
    "    w2v_train_data,\n",
    "    taining_labels,\n",
    "    validation_data=(w2v_valid_data, valid_labels),\n",
    "    epochs=W2V_EPOCHS,\n",
    "    batch_size=W2V_BATCH_SIZE)\n",
    "plot_training(history)"
   ]
  },
  {
   "cell_type": "code",
   "execution_count": 21,
   "outputs": [
    {
     "name": "stdout",
     "output_type": "stream",
     "text": [
      "begin evaluation\n",
      "157/157 [==============================] - 0s 734us/step - loss: 0.3830 - accuracy: 0.8500\n"
     ]
    },
    {
     "data": {
      "text/plain": "[0.3830404281616211, 0.8500000238418579]"
     },
     "execution_count": 21,
     "metadata": {},
     "output_type": "execute_result"
    }
   ],
   "source": [
    "print(\"begin evaluation\")\n",
    "w2v_model.evaluate(w2v_test_data, test_labels)"
   ],
   "metadata": {
    "collapsed": false,
    "ExecuteTime": {
     "end_time": "2023-05-15T14:15:47.298021Z",
     "start_time": "2023-05-15T14:15:47.157380Z"
    }
   }
  },
  {
   "cell_type": "code",
   "execution_count": 21,
   "outputs": [],
   "source": [],
   "metadata": {
    "collapsed": false,
    "ExecuteTime": {
     "end_time": "2023-05-15T14:15:47.300060Z",
     "start_time": "2023-05-15T14:15:47.298430Z"
    }
   }
  }
 ],
 "metadata": {
  "colab": {
   "authorship_tag": "ABX9TyPun9gmYIf9t/BZSermdCJL",
   "include_colab_link": true,
   "mount_file_id": "1DkZU-n7fDBOIj7zec3xzfRXH0jZgeOaV",
   "provenance": []
  },
  "kernelspec": {
   "display_name": "Python 3 (ipykernel)",
   "language": "python",
   "name": "python3"
  },
  "language_info": {
   "codemirror_mode": {
    "name": "ipython",
    "version": 3
   },
   "file_extension": ".py",
   "mimetype": "text/x-python",
   "name": "python",
   "nbconvert_exporter": "python",
   "pygments_lexer": "ipython3",
   "version": "3.8.15"
  }
 },
 "nbformat": 4,
 "nbformat_minor": 4
}
