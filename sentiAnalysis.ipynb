{
 "cells": [
  {
   "cell_type": "markdown",
   "metadata": {
    "colab_type": "text",
    "id": "view-in-github"
   },
   "source": [
    "<a href=\"https://colab.research.google.com/github/LinusBach/SentimentAnalysis/blob/main/sentiAnalysis.ipynb\" target=\"_parent\"><img src=\"https://colab.research.google.com/assets/colab-badge.svg\" alt=\"Open In Colab\"/></a>"
   ]
  },
  {
   "cell_type": "markdown",
   "metadata": {
    "id": "6FL2Mbm_sxwb"
   },
   "source": [
    "# Simple sentiment analysis\n",
    "\n",
    "Sentiment analysis, using iMDB database\n",
    "\n",
    "First, implement and train a feedforward NN model with TF-IDF. And then train your\n",
    "model using word2vec embedding. Report both training and development accuracy on\n",
    "the dataset. Try to use stochastic gradient descent or (mini-batch) stochastic gradient\n",
    "descent!\n",
    "\n"
   ]
  },
  {
   "cell_type": "markdown",
   "metadata": {
    "id": "XpITqxI8ugWq"
   },
   "source": [
    "### imports and constants\n"
   ]
  },
  {
   "cell_type": "code",
   "execution_count": 2,
   "metadata": {
    "id": "OiLsmKu-ujrK"
   },
   "outputs": [
    {
     "name": "stderr",
     "output_type": "stream",
     "text": [
      "2023-05-09 17:39:45.244112: I tensorflow/tsl/cuda/cudart_stub.cc:28] Could not find cuda drivers on your machine, GPU will not be used.\n",
      "2023-05-09 17:39:45.281476: I tensorflow/tsl/cuda/cudart_stub.cc:28] Could not find cuda drivers on your machine, GPU will not be used.\n",
      "2023-05-09 17:39:45.282258: I tensorflow/core/platform/cpu_feature_guard.cc:182] This TensorFlow binary is optimized to use available CPU instructions in performance-critical operations.\n",
      "To enable the following instructions: AVX2 FMA, in other operations, rebuild TensorFlow with the appropriate compiler flags.\n",
      "2023-05-09 17:39:46.081227: W tensorflow/compiler/tf2tensorrt/utils/py_utils.cc:38] TF-TRT Warning: Could not find TensorRT\n"
     ]
    }
   ],
   "source": [
    "from tensorflow.keras.models import Sequential\n",
    "from tensorflow.keras import layers\n",
    "from tensorflow import keras\n",
    "import nltk\n",
    "import csv\n",
    "import numpy as np\n",
    "# from sklearn.feature_extraction.text import TfidfVectorizer\n",
    "import gensim\n",
    "from gensim.models import Word2Vec\n",
    "\n",
    "BATCH_SIZE = 32\n",
    "EPOCHS = 20\n",
    "# minimum ocuurences for a word to be regarded\n",
    "VOCAB_SIZE = 5000\n",
    "# number of most frequent words to be disregarded\n",
    "HIGHER_CUTOFF = 20"
   ]
  },
  {
   "cell_type": "markdown",
   "metadata": {
    "id": "3YruF5M9t3-0"
   },
   "source": [
    "### load dataset into memory\n",
    "return a list of docs and a list of respective labels"
   ]
  },
  {
   "cell_type": "code",
   "execution_count": 3,
   "metadata": {
    "id": "YOaqXlBmtssb"
   },
   "outputs": [],
   "source": [
    "def load_data (filename):\n",
    "  content = list()\n",
    "  labels = list()\n",
    "\n",
    "  has_header = True\n",
    "  # detect if file has a header\n",
    "  # with open(filename, 'r') as file:\n",
    "  #   sample = file.read(64)\n",
    "  #   has_header = csv.Sniffer().has_header(sample)\n",
    "\n",
    "  with open(filename, 'r') as file:\n",
    "    reader = csv.reader(file)\n",
    "    # skip first line if file has a header \n",
    "    if has_header:\n",
    "      next(reader)\n",
    "    for c, l in reader:\n",
    "      content.append(c)\n",
    "      labels.append(l)\n",
    "  return content, labels"
   ]
  },
  {
   "cell_type": "markdown",
   "metadata": {
    "id": "UsvSHK0Bt99T"
   },
   "source": [
    "### turn a dataset into clean tokens"
   ]
  },
  {
   "cell_type": "code",
   "execution_count": 19,
   "metadata": {
    "id": "N0Ig0SQvuJvd"
   },
   "outputs": [],
   "source": [
    "def clean_data(data):\n",
    "  corpus = list()\n",
    "  corp_voc = dict()\n",
    "  # regex tokenizer, find words, numbers and words containing '\n",
    "  tokenizer = nltk.tokenize.RegexpTokenizer(r\"\\w+(?:'\\w)?\")\n",
    "  for doc in data:\n",
    "    doc = tokenizer.tokenize(doc)\n",
    "    doc_cleaned = dict()\n",
    "    for tok in doc:\n",
    "      # make all words lower case\n",
    "      tok = tok.lower()\n",
    "      # filter out numbers \n",
    "      if not tok.isdigit():\n",
    "        # add clean token to document\n",
    "        if tok in doc_cleaned:\n",
    "          doc_cleaned[tok] += 1\n",
    "        else:\n",
    "          doc_cleaned[tok] = 1\n",
    "    for tok in doc_cleaned.keys():\n",
    "    # increase corpus vocabulary\n",
    "        if tok in corp_voc:\n",
    "          corp_voc[tok] += 1\n",
    "        else:\n",
    "          corp_voc[tok] = 1\n",
    "    corpus.append(doc_cleaned)\n",
    "  return corpus, corp_voc\n",
    "\n",
    "# filter all words out of a corpus that are not in a vocabulary\n",
    "def get_filtered_corpus(corpus, vocab):\n",
    "  clean_corpus = list()\n",
    "  for doc in corpus:\n",
    "    clean_doc = dict()\n",
    "    for tok in doc:\n",
    "      if tok in vocab:\n",
    "        clean_doc[tok] = doc[tok]\n",
    "    clean_corpus.append(clean_doc)\n",
    "  return clean_corpus\n"
   ]
  },
  {
   "cell_type": "markdown",
   "metadata": {
    "id": "ZInuMNEMuPVI"
   },
   "source": [
    "### preprocess the dataset\n",
    "\n",
    "some naive implementations, way to slow tho"
   ]
  },
  {
   "cell_type": "code",
   "execution_count": 16,
   "metadata": {
    "id": "E-XqdPRJuSA_"
   },
   "outputs": [],
   "source": [
    "\n",
    "# corpus must be a list of dicts of form (token: occurences)\n",
    "# vocab must be a dict of form (token: documents in corpus containing token)\n",
    "def preprocess_tf_idf(corpus, vocab):\n",
    "  processed = np.zeros((len(corpus), len(vocab)))\n",
    "  idf = get_idf(vocab)\n",
    "  token_order = {tok: i for i, tok, in enumerate(sorted(vocab.keys()))}\n",
    "  for n_doc, doc in enumerate(corpus):\n",
    "    tf = get_tf(doc)\n",
    "    for tok in set(doc):\n",
    "      tok_pos = token_order[tok]\n",
    "      processed[n_doc][tok_pos] = tf[tok]*idf[tok]\n",
    "  return processed\n",
    "\n",
    "def get_tf(doc):\n",
    "  tf = dict()\n",
    "  for tok, occ in doc.items():\n",
    "    tf[tok] = occ / len(doc)\n",
    "  return tf\n",
    "\n",
    "def get_idf(corp_voc):\n",
    "  idf = dict()\n",
    "  for tok, docs_containing in corp_voc.items():\n",
    "    idf[tok] = np.log10(len(corp_voc) / docs_containing)\n",
    "  return idf\n"
   ]
  },
  {
   "cell_type": "markdown",
   "metadata": {
    "id": "zHdoEQ-YuSuL"
   },
   "source": [
    "### define the model\n"
   ]
  },
  {
   "cell_type": "code",
   "execution_count": 7,
   "metadata": {
    "id": "2XiiBtEfuUoP"
   },
   "outputs": [],
   "source": [
    "def define_model(input_dim):\n",
    "  model = keras.models.Sequential()\n",
    "  model.add(layers.Dense(511, input_dim=input_dim, activation='relu'))\n",
    "  model.add(layers.Dropout(0.2))\n",
    "  model.add(layers.Dense(255, activation='relu'))\n",
    "  model.add(layers.Dropout(0.2))\n",
    "  model.add(layers.Dense(127, activation='relu'))\n",
    "  model.add(layers.Dropout(0.2))\n",
    "  model.add(layers.Dense(2, activation='softmax'))\n",
    "  return model"
   ]
  },
  {
   "cell_type": "markdown",
   "metadata": {
    "id": "jjvO8JTquZM9"
   },
   "source": [
    "### classify a review as negative or positive."
   ]
  },
  {
   "cell_type": "code",
   "execution_count": 8,
   "metadata": {
    "id": "ZeFui2DpudfA"
   },
   "outputs": [],
   "source": [
    "def predict_sentiment(model, doc):\n",
    "  return model.predict(doc)"
   ]
  },
  {
   "cell_type": "markdown",
   "metadata": {
    "id": "DPMxAk0vSAiB"
   },
   "source": [
    "### run"
   ]
  },
  {
   "cell_type": "code",
   "execution_count": 9,
   "metadata": {
    "id": "5bZDqpVtSCv8"
   },
   "outputs": [],
   "source": [
    "raw_data, labels = load_data(\"Train.csv\")\n",
    "full_corpus, full_vocab = clean_data(raw_data)"
   ]
  },
  {
   "cell_type": "code",
   "execution_count": 10,
   "metadata": {
    "colab": {
     "base_uri": "https://localhost:8080/"
    },
    "id": "_-XH0prjdjST",
    "outputId": "892db3e7-1b92-4733-ebea-a32072b2459e"
   },
   "outputs": [
    {
     "name": "stdout",
     "output_type": "stream",
     "text": [
      "{'grew': 1, 'up': 1, 'b': 1, 'watching': 1, 'loving': 1, 'all': 2, 'my': 2, 'at': 1, 'school': 3, 'watched': 1, 'we': 2, 'played': 1, 'before': 1, 'during': 1, 'after': 1, 'wanted': 2, 'be': 3, 'or': 1, 'scott': 1, 'no': 1, 'one': 2, 'alan': 1, 'down': 1, 'from': 1, 'became': 1, 'an': 1, 'art': 1, 'form': 1, 'took': 1, 'children': 1, 'see': 1, 'hoping': 1, 'they': 1, 'would': 1, 'get': 1, 'glimpse': 1, 'what': 1, 'loved': 1, 'child': 1, 'how': 1, 'disappointing': 1, 'only': 1, 'high': 1, 'point': 1, 'theme': 1, 'tune': 1, 'could': 1, 'compare': 1, 'original': 1, 'score': 1, 'thankfully': 1, 'early': 1, 'saturday': 1, 'television': 1, 'channel': 1, 'still': 1, 'plays': 1, 'series': 1, 'anderson': 1, 'his': 3, 'wife': 1, 'created': 1, 'should': 1, 'hand': 1, 'directors': 1, 'chair': 1, 'version': 1, 'completely': 1, 'hopeless': 1, 'waste': 1, 'film': 1, 'utter': 1, 'rubbish': 1, 'cgi': 1, 'remake': 1, 'may': 1, 'acceptable': 1, 'huge': 1}\n"
     ]
    }
   ],
   "source": [
    "frequencies = sorted(full_vocab.items(), key=lambda x : x[1], reverse=True)\n",
    "vocab = {x[0] : x[1] for x in frequencies[HIGHER_CUTOFF:HIGHER_CUTOFF+VOCAB_SIZE]}\n",
    "\n",
    "corpus = get_filtered_corpus(full_corpus, vocab.keys())\n",
    "print(corpus[0])"
   ]
  },
  {
   "cell_type": "code",
   "execution_count": 17,
   "metadata": {
    "id": "GKsX4Kkb44ya"
   },
   "outputs": [],
   "source": [
    "data = preprocess_tf_idf(corpus, vocab)\n",
    "one_hot_labels = keras.utils.to_categorical(labels, num_classes=2)"
   ]
  },
  {
   "cell_type": "code",
   "execution_count": 20,
   "metadata": {
    "id": "RsmwRmA5_UJv"
   },
   "outputs": [],
   "source": [
    "v_raw, v_labels = load_data(\"Valid.csv\")\n",
    "full_valid_corpus, _ = clean_data(v_raw)\n",
    "valid_corpus = get_filtered_corpus(full_valid_corpus, vocab)\n",
    "valid_data = preprocess_tf_idf(valid_corpus, vocab)\n",
    "valid_labels = keras.utils.to_categorical(v_labels, num_classes=2)"
   ]
  },
  {
   "cell_type": "code",
   "execution_count": 21,
   "metadata": {
    "id": "0IuRI2fC6oTC"
   },
   "outputs": [],
   "source": [
    "t_raw, t_labels = load_data(\"Test.csv\")\n",
    "full_test_corpus, _ = clean_data(t_raw)\n",
    "test_corpus = get_filtered_corpus(full_test_corpus, vocab)\n",
    "test_data = preprocess_tf_idf(test_corpus, vocab)\n",
    "test_labels = keras.utils.to_categorical(t_labels, num_classes=2)"
   ]
  },
  {
   "cell_type": "code",
   "execution_count": 22,
   "metadata": {
    "colab": {
     "base_uri": "https://localhost:8080/"
    },
    "id": "uF7wNTALwMDp",
    "outputId": "6f707032-f32d-4a80-d6a3-b5cf74b7bbf0"
   },
   "outputs": [
    {
     "name": "stdout",
     "output_type": "stream",
     "text": [
      "Epoch 1/20\n",
      "1250/1250 [==============================] - 12s 9ms/step - loss: 0.3436 - accuracy: 0.8463 - val_loss: 0.2792 - val_accuracy: 0.8854\n",
      "Epoch 2/20\n",
      "1250/1250 [==============================] - 11s 9ms/step - loss: 0.2414 - accuracy: 0.9051 - val_loss: 0.2817 - val_accuracy: 0.8812\n",
      "Epoch 3/20\n",
      "1250/1250 [==============================] - 11s 9ms/step - loss: 0.2061 - accuracy: 0.9190 - val_loss: 0.2951 - val_accuracy: 0.8814\n",
      "Epoch 4/20\n",
      "1250/1250 [==============================] - 11s 9ms/step - loss: 0.1649 - accuracy: 0.9349 - val_loss: 0.3376 - val_accuracy: 0.8810\n",
      "Epoch 5/20\n",
      "1250/1250 [==============================] - 11s 9ms/step - loss: 0.1115 - accuracy: 0.9578 - val_loss: 0.4358 - val_accuracy: 0.8798\n",
      "Epoch 6/20\n",
      "1250/1250 [==============================] - 11s 9ms/step - loss: 0.0666 - accuracy: 0.9757 - val_loss: 0.5529 - val_accuracy: 0.8772\n",
      "Epoch 7/20\n",
      "1250/1250 [==============================] - 11s 9ms/step - loss: 0.0419 - accuracy: 0.9840 - val_loss: 0.7098 - val_accuracy: 0.8762\n",
      "Epoch 8/20\n",
      "1250/1250 [==============================] - 11s 9ms/step - loss: 0.0351 - accuracy: 0.9870 - val_loss: 0.7006 - val_accuracy: 0.8776\n",
      "Epoch 9/20\n",
      "1250/1250 [==============================] - 11s 9ms/step - loss: 0.0283 - accuracy: 0.9906 - val_loss: 0.6865 - val_accuracy: 0.8756\n",
      "Epoch 10/20\n",
      "1250/1250 [==============================] - 11s 9ms/step - loss: 0.0157 - accuracy: 0.9944 - val_loss: 0.9495 - val_accuracy: 0.8774\n",
      "Epoch 11/20\n",
      "1250/1250 [==============================] - 11s 9ms/step - loss: 0.0212 - accuracy: 0.9929 - val_loss: 0.7991 - val_accuracy: 0.8784\n",
      "Epoch 12/20\n",
      "1250/1250 [==============================] - 11s 9ms/step - loss: 0.0138 - accuracy: 0.9956 - val_loss: 0.9604 - val_accuracy: 0.8638\n",
      "Epoch 13/20\n",
      "1250/1250 [==============================] - 11s 9ms/step - loss: 0.0141 - accuracy: 0.9952 - val_loss: 0.8543 - val_accuracy: 0.8714\n",
      "Epoch 14/20\n",
      "1250/1250 [==============================] - 11s 9ms/step - loss: 0.0114 - accuracy: 0.9962 - val_loss: 0.8067 - val_accuracy: 0.8760\n",
      "Epoch 15/20\n",
      "1250/1250 [==============================] - 11s 9ms/step - loss: 0.0117 - accuracy: 0.9962 - val_loss: 0.8804 - val_accuracy: 0.8706\n",
      "Epoch 16/20\n",
      "1250/1250 [==============================] - 11s 9ms/step - loss: 0.0102 - accuracy: 0.9969 - val_loss: 0.8675 - val_accuracy: 0.8776\n",
      "Epoch 17/20\n",
      "1250/1250 [==============================] - 11s 9ms/step - loss: 0.0100 - accuracy: 0.9967 - val_loss: 0.8245 - val_accuracy: 0.8762\n",
      "Epoch 18/20\n",
      "1250/1250 [==============================] - 11s 9ms/step - loss: 0.0076 - accuracy: 0.9976 - val_loss: 0.8821 - val_accuracy: 0.8794\n",
      "Epoch 19/20\n",
      "1250/1250 [==============================] - 11s 9ms/step - loss: 0.0080 - accuracy: 0.9974 - val_loss: 1.2908 - val_accuracy: 0.8556\n",
      "Epoch 20/20\n",
      "1250/1250 [==============================] - 11s 9ms/step - loss: 0.0090 - accuracy: 0.9970 - val_loss: 0.8662 - val_accuracy: 0.8766\n"
     ]
    }
   ],
   "source": [
    "model = define_model(VOCAB_SIZE,)\n",
    "model.compile(\n",
    "    loss='binary_crossentropy',\n",
    "    optimizer='adam',\n",
    "    metrics=['accuracy'])\n",
    "history = model.fit(\n",
    "    data,\n",
    "    one_hot_labels,\n",
    "    validation_data=(valid_data, valid_labels),\n",
    "    epochs=EPOCHS,\n",
    "    batch_size=BATCH_SIZE)"
   ]
  },
  {
   "cell_type": "code",
   "execution_count": null,
   "metadata": {
    "colab": {
     "base_uri": "https://localhost:8080/"
    },
    "id": "1R9P4-swwuaN",
    "outputId": "f1a5eae3-c557-4c8a-a547-ef40ff831c13"
   },
   "outputs": [
    {
     "name": "stdout",
     "output_type": "stream",
     "text": [
      "157/157 [==============================] - 2s 12ms/step - loss: 0.9522 - accuracy: 0.8812\n"
     ]
    }
   ],
   "source": [
    "pred = model.evaluate(test_data, test_labels)"
   ]
  },
  {
   "cell_type": "code",
   "execution_count": null,
   "metadata": {
    "colab": {
     "base_uri": "https://localhost:8080/"
    },
    "id": "WJTcAHt58nbV",
    "outputId": "a40ebad3-b84c-4326-9913-dda1c9c845fa"
   },
   "outputs": [
    {
     "name": "stdout",
     "output_type": "stream",
     "text": [
      "1.1920928955078126e-11\n"
     ]
    }
   ],
   "source": [
    "model.compute_loss()\n"
   ]
  }
 ],
 "metadata": {
  "colab": {
   "authorship_tag": "ABX9TyPun9gmYIf9t/BZSermdCJL",
   "include_colab_link": true,
   "mount_file_id": "1DkZU-n7fDBOIj7zec3xzfRXH0jZgeOaV",
   "provenance": []
  },
  "kernelspec": {
   "display_name": "Python 3 (ipykernel)",
   "language": "python",
   "name": "python3"
  },
  "language_info": {
   "codemirror_mode": {
    "name": "ipython",
    "version": 3
   },
   "file_extension": ".py",
   "mimetype": "text/x-python",
   "name": "python",
   "nbconvert_exporter": "python",
   "pygments_lexer": "ipython3",
   "version": "3.8.15"
  }
 },
 "nbformat": 4,
 "nbformat_minor": 4
}
